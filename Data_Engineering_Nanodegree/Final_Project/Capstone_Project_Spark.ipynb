{
 "cells": [
  {
   "cell_type": "markdown",
   "metadata": {},
   "source": [
    "# Project Title: Immigration Stats by City \n",
    "### Data Engineering Capstone Project\n",
    "\n",
    "#### Project Summary\n",
    "\n",
    "* Step 1: Scope the Project and Gather Data\n",
    "* Step 2: Explore and Assess the Data\n",
    "* Step 3: Define the Data Model\n",
    "* Step 4: Run ETL to Model the Data\n",
    "* Step 5: Complete Project Write Up"
   ]
  },
  {
   "cell_type": "code",
   "execution_count": 1,
   "metadata": {},
   "outputs": [],
   "source": [
    "import pandas as pd"
   ]
  },
  {
   "cell_type": "markdown",
   "metadata": {},
   "source": [
    "### Step 1: Scope the Project and Gather Data\n",
    "\n",
    "#### Scope \n",
    "Explain what you plan to do in the project in more detail. What data do you use? What is your end solution look like? What tools did you use? etc>\n",
    "\n",
    "#### Describe and Gather Data \n",
    "Describe the data sets you're using. Where did it come from? What type of information is included? "
   ]
  },
  {
   "cell_type": "code",
   "execution_count": 2,
   "metadata": {},
   "outputs": [],
   "source": [
    "# Read in city data here\n",
    "\n",
    "# https://public.opendatasoft.com/explore/dataset/us-cities-demographics/export/\n",
    "# This dataset contains information about the demographics of all US cities and census-designated \n",
    "#places with a population greater or equal to 65,000.\n",
    "\n",
    "city_file = '/home/workspace/us-cities-demographics.csv'"
   ]
  },
  {
   "cell_type": "code",
   "execution_count": 3,
   "metadata": {},
   "outputs": [],
   "source": [
    "# Distributed processing \n",
    "from pyspark.sql import SparkSession\n",
    "spark = SparkSession.builder.\\\n",
    "config(\"spark.jars.packages\",\"saurfang:spark-sas7bdat:2.0.0-s_2.11\")\\\n",
    ".enableHiveSupport().getOrCreate()"
   ]
  },
  {
   "cell_type": "code",
   "execution_count": 4,
   "metadata": {},
   "outputs": [],
   "source": [
    "import pyspark.sql.types as typ\n",
    "# Schema of city demographic data\n",
    "\n",
    "schema = [\n",
    "    typ.StructField(\"City\", typ.StringType(), True),\n",
    "    typ.StructField(\"State\", typ.StringType(), True),\n",
    "    typ.StructField(\"Median Age\", typ.FloatType(), True),\n",
    "    typ.StructField(\"Male Population\", typ.FloatType(), True),\n",
    "    typ.StructField(\"Female Population\", typ.FloatType(), True),\n",
    "    typ.StructField(\"Total Population\", typ.FloatType(), True),\n",
    "    typ.StructField(\"Number of Veterans\", typ.FloatType(), True),\n",
    "    typ.StructField(\"Foreign-born\", typ.StringType(), True),\n",
    "    typ.StructField(\"Average Household Size\", typ.FloatType(), True),\n",
    "    typ.StructField(\"State Code\", typ.StringType(), True),\n",
    "    typ.StructField(\"Race\", typ.StringType(), True),\n",
    "    typ.StructField(\"Count\", typ.FloatType(), True)]\n",
    "\n",
    "customSchema = typ.StructType(schema)"
   ]
  },
  {
   "cell_type": "code",
   "execution_count": 5,
   "metadata": {},
   "outputs": [],
   "source": [
    "df_city = spark.read.format(\"csv\").option(\"header\", \"true\").option(\"delimiter\", \";\").schema(customSchema).load(city_file)"
   ]
  },
  {
   "cell_type": "code",
   "execution_count": 6,
   "metadata": {},
   "outputs": [
    {
     "name": "stdout",
     "output_type": "stream",
     "text": [
      "root\n",
      " |-- City: string (nullable = true)\n",
      " |-- State: string (nullable = true)\n",
      " |-- Median Age: float (nullable = true)\n",
      " |-- Male Population: float (nullable = true)\n",
      " |-- Female Population: float (nullable = true)\n",
      " |-- Total Population: float (nullable = true)\n",
      " |-- Number of Veterans: float (nullable = true)\n",
      " |-- Foreign-born: string (nullable = true)\n",
      " |-- Average Household Size: float (nullable = true)\n",
      " |-- State Code: string (nullable = true)\n",
      " |-- Race: string (nullable = true)\n",
      " |-- Count: float (nullable = true)\n",
      "\n"
     ]
    }
   ],
   "source": [
    "df_city.printSchema()"
   ]
  },
  {
   "cell_type": "code",
   "execution_count": 7,
   "metadata": {},
   "outputs": [
    {
     "name": "stdout",
     "output_type": "stream",
     "text": [
      "+----------------+-------------+----------+---------------+-----------------+----------------+------------------+------------+----------------------+----------+--------------------+-------+\n",
      "|            City|        State|Median Age|Male Population|Female Population|Total Population|Number of Veterans|Foreign-born|Average Household Size|State Code|                Race|  Count|\n",
      "+----------------+-------------+----------+---------------+-----------------+----------------+------------------+------------+----------------------+----------+--------------------+-------+\n",
      "|   Silver Spring|     Maryland|      33.8|        40601.0|          41862.0|         82463.0|            1562.0|       30908|                   2.6|        MD|  Hispanic or Latino|25924.0|\n",
      "|          Quincy|Massachusetts|      41.0|        44129.0|          49500.0|         93629.0|            4147.0|       32935|                  2.39|        MA|               White|58723.0|\n",
      "|          Hoover|      Alabama|      38.5|        38040.0|          46799.0|         84839.0|            4819.0|        8229|                  2.58|        AL|               Asian| 4759.0|\n",
      "|Rancho Cucamonga|   California|      34.5|        88127.0|          87105.0|        175232.0|            5821.0|       33878|                  3.18|        CA|Black or African-...|24437.0|\n",
      "|          Newark|   New Jersey|      34.6|       138040.0|         143873.0|        281913.0|            5829.0|       86253|                  2.73|        NJ|               White|76402.0|\n",
      "+----------------+-------------+----------+---------------+-----------------+----------------+------------------+------------+----------------------+----------+--------------------+-------+\n",
      "only showing top 5 rows\n",
      "\n"
     ]
    }
   ],
   "source": [
    "df_city.show(5)"
   ]
  },
  {
   "cell_type": "code",
   "execution_count": 8,
   "metadata": {},
   "outputs": [
    {
     "name": "stdout",
     "output_type": "stream",
     "text": [
      "+----------------+-------------+----------+---------------+-----------------+----------------+------------------+\n",
      "|            City|        State|Median Age|Male Population|Female Population|Total Population|Number of Veterans|\n",
      "+----------------+-------------+----------+---------------+-----------------+----------------+------------------+\n",
      "|   Silver Spring|     Maryland|      33.8|        40601.0|          41862.0|         82463.0|            1562.0|\n",
      "|          Quincy|Massachusetts|      41.0|        44129.0|          49500.0|         93629.0|            4147.0|\n",
      "|          Hoover|      Alabama|      38.5|        38040.0|          46799.0|         84839.0|            4819.0|\n",
      "|Rancho Cucamonga|   California|      34.5|        88127.0|          87105.0|        175232.0|            5821.0|\n",
      "|          Newark|   New Jersey|      34.6|       138040.0|         143873.0|        281913.0|            5829.0|\n",
      "+----------------+-------------+----------+---------------+-----------------+----------------+------------------+\n",
      "only showing top 5 rows\n",
      "\n"
     ]
    }
   ],
   "source": [
    "df_city.select('City','State','Median Age','Male Population','Female Population','Total Population','Number of Veterans').show(5)"
   ]
  },
  {
   "cell_type": "code",
   "execution_count": 9,
   "metadata": {},
   "outputs": [
    {
     "name": "stdout",
     "output_type": "stream",
     "text": [
      "+------------+----------------------+----------+--------------------+-------+\n",
      "|Foreign-born|Average Household Size|State Code|                Race|  Count|\n",
      "+------------+----------------------+----------+--------------------+-------+\n",
      "|       30908|                   2.6|        MD|  Hispanic or Latino|25924.0|\n",
      "|       32935|                  2.39|        MA|               White|58723.0|\n",
      "|        8229|                  2.58|        AL|               Asian| 4759.0|\n",
      "|       33878|                  3.18|        CA|Black or African-...|24437.0|\n",
      "|       86253|                  2.73|        NJ|               White|76402.0|\n",
      "+------------+----------------------+----------+--------------------+-------+\n",
      "only showing top 5 rows\n",
      "\n"
     ]
    }
   ],
   "source": [
    "df_city.select('Foreign-born','Average Household Size','State Code','Race', 'Count').show(5)"
   ]
  },
  {
   "cell_type": "code",
   "execution_count": 10,
   "metadata": {},
   "outputs": [
    {
     "data": {
      "text/html": [
       "<div>\n",
       "<style scoped>\n",
       "    .dataframe tbody tr th:only-of-type {\n",
       "        vertical-align: middle;\n",
       "    }\n",
       "\n",
       "    .dataframe tbody tr th {\n",
       "        vertical-align: top;\n",
       "    }\n",
       "\n",
       "    .dataframe thead th {\n",
       "        text-align: right;\n",
       "    }\n",
       "</style>\n",
       "<table border=\"1\" class=\"dataframe\">\n",
       "  <thead>\n",
       "    <tr style=\"text-align: right;\">\n",
       "      <th></th>\n",
       "      <th>Unnamed: 0</th>\n",
       "      <th>cicid</th>\n",
       "      <th>i94yr</th>\n",
       "      <th>i94mon</th>\n",
       "      <th>i94cit</th>\n",
       "      <th>i94res</th>\n",
       "      <th>i94port</th>\n",
       "      <th>arrdate</th>\n",
       "      <th>i94mode</th>\n",
       "      <th>i94addr</th>\n",
       "      <th>...</th>\n",
       "      <th>entdepu</th>\n",
       "      <th>matflag</th>\n",
       "      <th>biryear</th>\n",
       "      <th>dtaddto</th>\n",
       "      <th>gender</th>\n",
       "      <th>insnum</th>\n",
       "      <th>airline</th>\n",
       "      <th>admnum</th>\n",
       "      <th>fltno</th>\n",
       "      <th>visatype</th>\n",
       "    </tr>\n",
       "  </thead>\n",
       "  <tbody>\n",
       "    <tr>\n",
       "      <th>0</th>\n",
       "      <td>2027561</td>\n",
       "      <td>4084316.0</td>\n",
       "      <td>2016.0</td>\n",
       "      <td>4.0</td>\n",
       "      <td>209.0</td>\n",
       "      <td>209.0</td>\n",
       "      <td>HHW</td>\n",
       "      <td>20566.0</td>\n",
       "      <td>1.0</td>\n",
       "      <td>HI</td>\n",
       "      <td>...</td>\n",
       "      <td>NaN</td>\n",
       "      <td>M</td>\n",
       "      <td>1955.0</td>\n",
       "      <td>07202016</td>\n",
       "      <td>F</td>\n",
       "      <td>NaN</td>\n",
       "      <td>JL</td>\n",
       "      <td>5.658267e+10</td>\n",
       "      <td>00782</td>\n",
       "      <td>WT</td>\n",
       "    </tr>\n",
       "    <tr>\n",
       "      <th>1</th>\n",
       "      <td>2171295</td>\n",
       "      <td>4422636.0</td>\n",
       "      <td>2016.0</td>\n",
       "      <td>4.0</td>\n",
       "      <td>582.0</td>\n",
       "      <td>582.0</td>\n",
       "      <td>MCA</td>\n",
       "      <td>20567.0</td>\n",
       "      <td>1.0</td>\n",
       "      <td>TX</td>\n",
       "      <td>...</td>\n",
       "      <td>NaN</td>\n",
       "      <td>M</td>\n",
       "      <td>1990.0</td>\n",
       "      <td>10222016</td>\n",
       "      <td>M</td>\n",
       "      <td>NaN</td>\n",
       "      <td>*GA</td>\n",
       "      <td>9.436200e+10</td>\n",
       "      <td>XBLNG</td>\n",
       "      <td>B2</td>\n",
       "    </tr>\n",
       "    <tr>\n",
       "      <th>2</th>\n",
       "      <td>589494</td>\n",
       "      <td>1195600.0</td>\n",
       "      <td>2016.0</td>\n",
       "      <td>4.0</td>\n",
       "      <td>148.0</td>\n",
       "      <td>112.0</td>\n",
       "      <td>OGG</td>\n",
       "      <td>20551.0</td>\n",
       "      <td>1.0</td>\n",
       "      <td>FL</td>\n",
       "      <td>...</td>\n",
       "      <td>NaN</td>\n",
       "      <td>M</td>\n",
       "      <td>1940.0</td>\n",
       "      <td>07052016</td>\n",
       "      <td>M</td>\n",
       "      <td>NaN</td>\n",
       "      <td>LH</td>\n",
       "      <td>5.578047e+10</td>\n",
       "      <td>00464</td>\n",
       "      <td>WT</td>\n",
       "    </tr>\n",
       "    <tr>\n",
       "      <th>3</th>\n",
       "      <td>2631158</td>\n",
       "      <td>5291768.0</td>\n",
       "      <td>2016.0</td>\n",
       "      <td>4.0</td>\n",
       "      <td>297.0</td>\n",
       "      <td>297.0</td>\n",
       "      <td>LOS</td>\n",
       "      <td>20572.0</td>\n",
       "      <td>1.0</td>\n",
       "      <td>CA</td>\n",
       "      <td>...</td>\n",
       "      <td>NaN</td>\n",
       "      <td>M</td>\n",
       "      <td>1991.0</td>\n",
       "      <td>10272016</td>\n",
       "      <td>M</td>\n",
       "      <td>NaN</td>\n",
       "      <td>QR</td>\n",
       "      <td>9.478970e+10</td>\n",
       "      <td>00739</td>\n",
       "      <td>B2</td>\n",
       "    </tr>\n",
       "    <tr>\n",
       "      <th>4</th>\n",
       "      <td>3032257</td>\n",
       "      <td>985523.0</td>\n",
       "      <td>2016.0</td>\n",
       "      <td>4.0</td>\n",
       "      <td>111.0</td>\n",
       "      <td>111.0</td>\n",
       "      <td>CHM</td>\n",
       "      <td>20550.0</td>\n",
       "      <td>3.0</td>\n",
       "      <td>NY</td>\n",
       "      <td>...</td>\n",
       "      <td>NaN</td>\n",
       "      <td>M</td>\n",
       "      <td>1997.0</td>\n",
       "      <td>07042016</td>\n",
       "      <td>F</td>\n",
       "      <td>NaN</td>\n",
       "      <td>NaN</td>\n",
       "      <td>4.232257e+10</td>\n",
       "      <td>LAND</td>\n",
       "      <td>WT</td>\n",
       "    </tr>\n",
       "  </tbody>\n",
       "</table>\n",
       "<p>5 rows × 29 columns</p>\n",
       "</div>"
      ],
      "text/plain": [
       "   Unnamed: 0      cicid   i94yr  i94mon  i94cit  i94res i94port  arrdate  \\\n",
       "0     2027561  4084316.0  2016.0     4.0   209.0   209.0     HHW  20566.0   \n",
       "1     2171295  4422636.0  2016.0     4.0   582.0   582.0     MCA  20567.0   \n",
       "2      589494  1195600.0  2016.0     4.0   148.0   112.0     OGG  20551.0   \n",
       "3     2631158  5291768.0  2016.0     4.0   297.0   297.0     LOS  20572.0   \n",
       "4     3032257   985523.0  2016.0     4.0   111.0   111.0     CHM  20550.0   \n",
       "\n",
       "   i94mode i94addr    ...     entdepu  matflag  biryear   dtaddto  gender  \\\n",
       "0      1.0      HI    ...         NaN        M   1955.0  07202016       F   \n",
       "1      1.0      TX    ...         NaN        M   1990.0  10222016       M   \n",
       "2      1.0      FL    ...         NaN        M   1940.0  07052016       M   \n",
       "3      1.0      CA    ...         NaN        M   1991.0  10272016       M   \n",
       "4      3.0      NY    ...         NaN        M   1997.0  07042016       F   \n",
       "\n",
       "  insnum airline        admnum  fltno  visatype  \n",
       "0    NaN      JL  5.658267e+10  00782        WT  \n",
       "1    NaN     *GA  9.436200e+10  XBLNG        B2  \n",
       "2    NaN      LH  5.578047e+10  00464        WT  \n",
       "3    NaN      QR  9.478970e+10  00739        B2  \n",
       "4    NaN     NaN  4.232257e+10   LAND        WT  \n",
       "\n",
       "[5 rows x 29 columns]"
      ]
     },
     "execution_count": 10,
     "metadata": {},
     "output_type": "execute_result"
    }
   ],
   "source": [
    "# Read in immigration data \n",
    "#I94 Immigration Data: This data comes from the US National Tourism and Trade Office.\n",
    "#https://travel.trade.gov/research/reports/i94/historical/2016.html\n",
    "\n",
    "immigration_file = '/home/workspace/immigration_data_sample.csv'\n",
    "\n",
    "df2 = pd.read_csv(immigration_file)\n",
    "df2.head()"
   ]
  },
  {
   "cell_type": "code",
   "execution_count": 11,
   "metadata": {},
   "outputs": [],
   "source": [
    "# Load second immigration dataset \n",
    "\n",
    "df_immigration = spark.read.format(\"csv\").option(\"header\", \"true\").option(\"delimiter\", \",\").load(immigration_file)"
   ]
  },
  {
   "cell_type": "code",
   "execution_count": 12,
   "metadata": {},
   "outputs": [
    {
     "name": "stdout",
     "output_type": "stream",
     "text": [
      "+-------+---------+------+------+------+------+-------+-------+-------+-------+-------+------+-------+-----+--------+--------+-----+-------+-------+-------+-------+-------+--------+------+------+-------+-------------+-----+--------+\n",
      "|    _c0|    cicid| i94yr|i94mon|i94cit|i94res|i94port|arrdate|i94mode|i94addr|depdate|i94bir|i94visa|count|dtadfile|visapost|occup|entdepa|entdepd|entdepu|matflag|biryear| dtaddto|gender|insnum|airline|       admnum|fltno|visatype|\n",
      "+-------+---------+------+------+------+------+-------+-------+-------+-------+-------+------+-------+-----+--------+--------+-----+-------+-------+-------+-------+-------+--------+------+------+-------+-------------+-----+--------+\n",
      "|2027561|4084316.0|2016.0|   4.0| 209.0| 209.0|    HHW|20566.0|    1.0|     HI|20573.0|  61.0|    2.0|  1.0|20160422|    null| null|      G|      O|   null|      M| 1955.0|07202016|     F|  null|     JL|56582674633.0|00782|      WT|\n",
      "|2171295|4422636.0|2016.0|   4.0| 582.0| 582.0|    MCA|20567.0|    1.0|     TX|20568.0|  26.0|    2.0|  1.0|20160423|     MTR| null|      G|      R|   null|      M| 1990.0|10222016|     M|  null|    *GA|94361995930.0|XBLNG|      B2|\n",
      "| 589494|1195600.0|2016.0|   4.0| 148.0| 112.0|    OGG|20551.0|    1.0|     FL|20571.0|  76.0|    2.0|  1.0|20160407|    null| null|      G|      O|   null|      M| 1940.0|07052016|     M|  null|     LH|55780468433.0|00464|      WT|\n",
      "|2631158|5291768.0|2016.0|   4.0| 297.0| 297.0|    LOS|20572.0|    1.0|     CA|20581.0|  25.0|    2.0|  1.0|20160428|     DOH| null|      G|      O|   null|      M| 1991.0|10272016|     M|  null|     QR|94789696030.0|00739|      B2|\n",
      "|3032257| 985523.0|2016.0|   4.0| 111.0| 111.0|    CHM|20550.0|    3.0|     NY|20553.0|  19.0|    2.0|  1.0|20160406|    null| null|      Z|      K|   null|      M| 1997.0|07042016|     F|  null|   null|42322572633.0| LAND|      WT|\n",
      "+-------+---------+------+------+------+------+-------+-------+-------+-------+-------+------+-------+-----+--------+--------+-----+-------+-------+-------+-------+-------+--------+------+------+-------+-------------+-----+--------+\n",
      "only showing top 5 rows\n",
      "\n"
     ]
    }
   ],
   "source": [
    "df_immigration.show(5)"
   ]
  },
  {
   "cell_type": "code",
   "execution_count": 13,
   "metadata": {},
   "outputs": [
    {
     "name": "stdout",
     "output_type": "stream",
     "text": [
      "root\n",
      " |-- _c0: string (nullable = true)\n",
      " |-- cicid: string (nullable = true)\n",
      " |-- i94yr: string (nullable = true)\n",
      " |-- i94mon: string (nullable = true)\n",
      " |-- i94cit: string (nullable = true)\n",
      " |-- i94res: string (nullable = true)\n",
      " |-- i94port: string (nullable = true)\n",
      " |-- arrdate: string (nullable = true)\n",
      " |-- i94mode: string (nullable = true)\n",
      " |-- i94addr: string (nullable = true)\n",
      " |-- depdate: string (nullable = true)\n",
      " |-- i94bir: string (nullable = true)\n",
      " |-- i94visa: string (nullable = true)\n",
      " |-- count: string (nullable = true)\n",
      " |-- dtadfile: string (nullable = true)\n",
      " |-- visapost: string (nullable = true)\n",
      " |-- occup: string (nullable = true)\n",
      " |-- entdepa: string (nullable = true)\n",
      " |-- entdepd: string (nullable = true)\n",
      " |-- entdepu: string (nullable = true)\n",
      " |-- matflag: string (nullable = true)\n",
      " |-- biryear: string (nullable = true)\n",
      " |-- dtaddto: string (nullable = true)\n",
      " |-- gender: string (nullable = true)\n",
      " |-- insnum: string (nullable = true)\n",
      " |-- airline: string (nullable = true)\n",
      " |-- admnum: string (nullable = true)\n",
      " |-- fltno: string (nullable = true)\n",
      " |-- visatype: string (nullable = true)\n",
      "\n"
     ]
    }
   ],
   "source": [
    "df_immigration.printSchema()"
   ]
  },
  {
   "cell_type": "code",
   "execution_count": 14,
   "metadata": {},
   "outputs": [
    {
     "name": "stdout",
     "output_type": "stream",
     "text": [
      "+-------+--------+------+-------+-----+-------+-------+\n",
      "|i94mode|visatype|gender|i94addr|count|i94port|biryear|\n",
      "+-------+--------+------+-------+-----+-------+-------+\n",
      "|    1.0|      WT|     F|     HI|  1.0|    HHW| 1955.0|\n",
      "|    1.0|      B2|     M|     TX|  1.0|    MCA| 1990.0|\n",
      "|    1.0|      WT|     M|     FL|  1.0|    OGG| 1940.0|\n",
      "|    1.0|      B2|     M|     CA|  1.0|    LOS| 1991.0|\n",
      "|    3.0|      WT|     F|     NY|  1.0|    CHM| 1997.0|\n",
      "+-------+--------+------+-------+-----+-------+-------+\n",
      "only showing top 5 rows\n",
      "\n"
     ]
    }
   ],
   "source": [
    "# assumption: each record represents a person. sum of count reflects actual immigration numbers\n",
    "\n",
    "df_immigration.select(\"i94mode\", \"visatype\", 'gender', 'i94addr', 'count', 'i94port', 'biryear').show(5)"
   ]
  },
  {
   "cell_type": "markdown",
   "metadata": {},
   "source": [
    "### Step 2: Explore and Assess the Data\n",
    "#### Explore the Data \n",
    "Identify data quality issues, like missing values, duplicate data, etc.\n",
    "\n",
    "#### Cleaning Steps\n",
    "Document steps necessary to clean the data"
   ]
  },
  {
   "cell_type": "code",
   "execution_count": 16,
   "metadata": {},
   "outputs": [
    {
     "data": {
      "text/plain": [
       "[('Silver Spring', 0),\n",
       " ('Quincy', 0),\n",
       " ('Hoover', 0),\n",
       " ('Rancho Cucamonga', 0),\n",
       " ('Newark', 0)]"
      ]
     },
     "execution_count": 16,
     "metadata": {},
     "output_type": "execute_result"
    }
   ],
   "source": [
    "# Performing cleaning tasks here\n",
    "\n",
    "# count of null values \n",
    "df_city.rdd.map(lambda row: (row['City'], sum([i == None for i in row ]))).take(5)"
   ]
  },
  {
   "cell_type": "code",
   "execution_count": 17,
   "metadata": {},
   "outputs": [
    {
     "data": {
      "text/plain": [
       "[Row(State Code='MD'),\n",
       " Row(State Code='MA'),\n",
       " Row(State Code='AL'),\n",
       " Row(State Code='CA'),\n",
       " Row(State Code='NJ')]"
      ]
     },
     "execution_count": 17,
     "metadata": {},
     "output_type": "execute_result"
    }
   ],
   "source": [
    "state = df_city.select('State Code')\n",
    "state.take(5)"
   ]
  },
  {
   "cell_type": "code",
   "execution_count": 18,
   "metadata": {},
   "outputs": [],
   "source": [
    "# City Data \n",
    "\n",
    "# rename columms of distributed dataFrame // curent naming convention is not supported\n",
    "\n",
    "df_better = df_city.withColumn(\"Abbr\", df_city['State Code'])\n",
    "\n",
    "df_better1 = df_better.withColumn(\"total_pop\", df_city['Total Population'])\n",
    "\n",
    "df_better2 = df_better1.withColumn(\"male_pop\", df_city['Male Population'])\n",
    "\n",
    "df_better3 = df_better2.withColumn(\"female_pop\", df_city['Female Population'])\n",
    "\n",
    "df_better4 = df_better3.withColumn(\"foreign_pop\", df_city['Foreign-born'])\n"
   ]
  },
  {
   "cell_type": "code",
   "execution_count": 19,
   "metadata": {},
   "outputs": [
    {
     "data": {
      "text/plain": [
       "[Row(City='Silver Spring', State='Maryland', Median Age=33.79999923706055, Male Population=40601.0, Female Population=41862.0, Total Population=82463.0, Number of Veterans=1562.0, Foreign-born='30908', Average Household Size=2.5999999046325684, State Code='MD', Race='Hispanic or Latino', Count=25924.0, Abbr='MD', total_pop=82463.0, male_pop=40601.0, female_pop=41862.0, foreign_pop='30908'),\n",
       " Row(City='Quincy', State='Massachusetts', Median Age=41.0, Male Population=44129.0, Female Population=49500.0, Total Population=93629.0, Number of Veterans=4147.0, Foreign-born='32935', Average Household Size=2.390000104904175, State Code='MA', Race='White', Count=58723.0, Abbr='MA', total_pop=93629.0, male_pop=44129.0, female_pop=49500.0, foreign_pop='32935'),\n",
       " Row(City='Hoover', State='Alabama', Median Age=38.5, Male Population=38040.0, Female Population=46799.0, Total Population=84839.0, Number of Veterans=4819.0, Foreign-born='8229', Average Household Size=2.5799999237060547, State Code='AL', Race='Asian', Count=4759.0, Abbr='AL', total_pop=84839.0, male_pop=38040.0, female_pop=46799.0, foreign_pop='8229'),\n",
       " Row(City='Rancho Cucamonga', State='California', Median Age=34.5, Male Population=88127.0, Female Population=87105.0, Total Population=175232.0, Number of Veterans=5821.0, Foreign-born='33878', Average Household Size=3.180000066757202, State Code='CA', Race='Black or African-American', Count=24437.0, Abbr='CA', total_pop=175232.0, male_pop=88127.0, female_pop=87105.0, foreign_pop='33878'),\n",
       " Row(City='Newark', State='New Jersey', Median Age=34.599998474121094, Male Population=138040.0, Female Population=143873.0, Total Population=281913.0, Number of Veterans=5829.0, Foreign-born='86253', Average Household Size=2.7300000190734863, State Code='NJ', Race='White', Count=76402.0, Abbr='NJ', total_pop=281913.0, male_pop=138040.0, female_pop=143873.0, foreign_pop='86253')]"
      ]
     },
     "execution_count": 19,
     "metadata": {},
     "output_type": "execute_result"
    }
   ],
   "source": [
    "df_better4.take(5)"
   ]
  },
  {
   "cell_type": "code",
   "execution_count": 20,
   "metadata": {},
   "outputs": [
    {
     "name": "stdout",
     "output_type": "stream",
     "text": [
      "+-------+-----------------+----------------------+------------------+------------------+------------------+\n",
      "|summary|       median age|Average Household Size|   Male Population| Female Population|  Total Population|\n",
      "+-------+-----------------+----------------------+------------------+------------------+------------------+\n",
      "|  count|             2891|                  2875|              2888|              2888|              2891|\n",
      "|   mean|35.49488059248078|     2.742542615890503| 97328.42624653739|101769.63088642659|198966.77931511588|\n",
      "| stddev|4.401616735414509|   0.43329108651402737|216299.93692873296|231564.57257148277| 447555.9296335903|\n",
      "|    min|             22.9|                   2.0|           29281.0|           27348.0|           63215.0|\n",
      "|    max|             70.5|                  4.98|         4081698.0|         4468707.0|         8550405.0|\n",
      "+-------+-----------------+----------------------+------------------+------------------+------------------+\n",
      "\n"
     ]
    }
   ],
   "source": [
    "#desciptive statistics of city data\n",
    "\n",
    "df_city.describe(['median age', 'Average Household Size', 'Male Population','Female Population','Total Population']).show()"
   ]
  },
  {
   "cell_type": "code",
   "execution_count": 21,
   "metadata": {},
   "outputs": [
    {
     "name": "stdout",
     "output_type": "stream",
     "text": [
      "+-------+---------+------+------+------+------+-------+-------+-------+-------+-------+------+-------+-----+--------+--------+-----+-------+-------+-------+-------+-------+--------+------+------+-------+-------------+-----+--------+\n",
      "|    _c0|    cicid| i94yr|i94mon|i94cit|i94res|i94port|arrdate|i94mode|i94addr|depdate|i94bir|i94visa|count|dtadfile|visapost|occup|entdepa|entdepd|entdepu|matflag|biryear| dtaddto|gender|insnum|airline|       admnum|fltno|visatype|\n",
      "+-------+---------+------+------+------+------+-------+-------+-------+-------+-------+------+-------+-----+--------+--------+-----+-------+-------+-------+-------+-------+--------+------+------+-------+-------------+-----+--------+\n",
      "|2027561|4084316.0|2016.0|   4.0| 209.0| 209.0|    HHW|20566.0|    1.0|     HI|20573.0|  61.0|    2.0|  1.0|20160422|    null| null|      G|      O|   null|      M| 1955.0|07202016|     F|  null|     JL|56582674633.0|00782|      WT|\n",
      "|2171295|4422636.0|2016.0|   4.0| 582.0| 582.0|    MCA|20567.0|    1.0|     TX|20568.0|  26.0|    2.0|  1.0|20160423|     MTR| null|      G|      R|   null|      M| 1990.0|10222016|     M|  null|    *GA|94361995930.0|XBLNG|      B2|\n",
      "| 589494|1195600.0|2016.0|   4.0| 148.0| 112.0|    OGG|20551.0|    1.0|     FL|20571.0|  76.0|    2.0|  1.0|20160407|    null| null|      G|      O|   null|      M| 1940.0|07052016|     M|  null|     LH|55780468433.0|00464|      WT|\n",
      "|2631158|5291768.0|2016.0|   4.0| 297.0| 297.0|    LOS|20572.0|    1.0|     CA|20581.0|  25.0|    2.0|  1.0|20160428|     DOH| null|      G|      O|   null|      M| 1991.0|10272016|     M|  null|     QR|94789696030.0|00739|      B2|\n",
      "|3032257| 985523.0|2016.0|   4.0| 111.0| 111.0|    CHM|20550.0|    3.0|     NY|20553.0|  19.0|    2.0|  1.0|20160406|    null| null|      Z|      K|   null|      M| 1997.0|07042016|     F|  null|   null|42322572633.0| LAND|      WT|\n",
      "+-------+---------+------+------+------+------+-------+-------+-------+-------+-------+------+-------+-----+--------+--------+-----+-------+-------+-------+-------+-------+--------+------+------+-------+-------------+-----+--------+\n",
      "only showing top 5 rows\n",
      "\n"
     ]
    }
   ],
   "source": [
    "#Immigration data\n",
    "# nulls visible in the data set\n",
    "# drop rows that do not contain i94addr value 'state'\n",
    "\n",
    "df_immigration_clean = df_immigration.dropna(how = 'any', subset = 'i94addr')\n",
    "\n",
    "df_immigration_clean.show(5)"
   ]
  },
  {
   "cell_type": "markdown",
   "metadata": {},
   "source": [
    "### Step 3: Define the Data Model\n",
    "#### 3.1 Conceptual Data Model\n",
    "Map out the conceptual data model and explain why you chose that model"
   ]
  },
  {
   "cell_type": "code",
   "execution_count": 22,
   "metadata": {},
   "outputs": [],
   "source": [
    "# The conceptual data model here leverages the city demographic dataset and the immigration dateset.\n",
    "#    Due to the size of the dataset the goals is to efficiently clean the data, to creates views of a\n",
    "#    subset of the relevant data and then to join the resulting views in order to generate a report \n",
    "#    that provides relevant information that could not have been achieved with either dataset alone, or while \n",
    "#    analyzing the full data sets"
   ]
  },
  {
   "cell_type": "code",
   "execution_count": 23,
   "metadata": {},
   "outputs": [],
   "source": [
    "### 3.2 Mapping Out Data Pipelines\n",
    "\n",
    "# Subviews will be created and joined on a common feature"
   ]
  },
  {
   "cell_type": "markdown",
   "metadata": {},
   "source": [
    "### Step 4: Run Pipelines to Model the Data \n",
    "#### 4.1 Create the data model\n",
    "Build the data pipelines to create the data model."
   ]
  },
  {
   "cell_type": "code",
   "execution_count": 24,
   "metadata": {},
   "outputs": [],
   "source": [
    "# Transform datasets\n",
    "\n",
    "# create temporary view of the city data \n",
    "\n",
    "df_better4.createOrReplaceTempView('cityView')"
   ]
  },
  {
   "cell_type": "code",
   "execution_count": 25,
   "metadata": {},
   "outputs": [],
   "source": [
    "df_sub_city = spark.sql(\"\"\"SELECT State, abbr, sum(male_pop) as sum_male_pop, sum(female_pop) as sum_female_pop, \n",
    "          sum(Foreign_pop) as sum_foreign_pop\n",
    "          FROM cityView \n",
    "          group by State, abbr order by State\"\"\")"
   ]
  },
  {
   "cell_type": "code",
   "execution_count": 26,
   "metadata": {},
   "outputs": [],
   "source": [
    "df_sub_city.createOrReplaceTempView(\"df_sub_city_view\")"
   ]
  },
  {
   "cell_type": "code",
   "execution_count": 27,
   "metadata": {},
   "outputs": [
    {
     "name": "stdout",
     "output_type": "stream",
     "text": [
      "+--------------------+----+------------+--------------+---------------+\n",
      "|               State|abbr|sum_male_pop|sum_female_pop|sum_foreign_pop|\n",
      "+--------------------+----+------------+--------------+---------------+\n",
      "|             Alabama|  AL|   2448200.0|     2715106.0|       252541.0|\n",
      "|              Alaska|  AK|    764725.0|      728750.0|       166290.0|\n",
      "|             Arizona|  AZ| 1.1137275E7|   1.1360435E7|      3411565.0|\n",
      "|            Arkansas|  AR|   1400724.0|     1482165.0|       307753.0|\n",
      "|          California|  CA| 6.1055672E7|   6.2388681E7|    3.7059662E7|\n",
      "|            Colorado|  CO|   7273095.0|     7405250.0|      1688155.0|\n",
      "|         Connecticut|  CT|   2123435.0|     2231661.0|      1114250.0|\n",
      "|            Delaware|  DE|    163400.0|      196385.0|        16680.0|\n",
      "|District of Columbia|  DC|   1598525.0|     1762615.0|       475585.0|\n",
      "|             Florida|  FL| 1.5461937E7|   1.6626425E7|      7845566.0|\n",
      "|             Georgia|  GA|   4101605.0|     4453555.0|       738925.0|\n",
      "|              Hawaii|  HI|    884035.0|      879795.0|       506560.0|\n",
      "|               Idaho|  ID|    995515.0|      998900.0|       140630.0|\n",
      "|            Illinois|  IL| 1.0943864E7|   1.1570526E7|      4632600.0|\n",
      "|             Indiana|  IN|   4399882.0|     4697912.0|       713623.0|\n",
      "|                Iowa|  IA|   1772066.0|     1831937.0|       309829.0|\n",
      "|              Kansas|  KS|   2820725.0|     2920645.0|       593225.0|\n",
      "|            Kentucky|  KY|   2262415.0|     2386970.0|       332440.0|\n",
      "|           Louisiana|  LA|   3134990.0|     3367985.0|       417095.0|\n",
      "|               Maine|  ME|    157400.0|      176960.0|        46145.0|\n",
      "+--------------------+----+------------+--------------+---------------+\n",
      "only showing top 20 rows\n",
      "\n"
     ]
    }
   ],
   "source": [
    "# final staging of city table\n",
    "\n",
    "# abbr field will be used as the join featurr\n",
    "# As a result the respective population metrics have been aggreagted by year\n",
    "\n",
    "spark.sql(\"SELECT * FROM df_sub_city_view\").show()"
   ]
  },
  {
   "cell_type": "code",
   "execution_count": 28,
   "metadata": {},
   "outputs": [],
   "source": [
    "df_immigration_clean.createOrReplaceTempView('immigrationView')\n",
    "\n",
    "# Key information for select immigration columns provided here:  \n",
    "\n",
    "\"\"\"I94BIR - Age of Respondent in Years */\n",
    "AIRLINE - Airline used to arrive in U.S. */\n",
    "VISATYPE Class of admission legally admitting the non-immigrant to temporarily stay in U.S. */\n",
    "I94MODE - There are missing values as well as not reported (9) */\n",
    "/* I94VISA - Visa codes collapsed into three categories:\n",
    "   1 = Business\n",
    "   2 = Pleasure\n",
    "   3 = Student   \n",
    "   /* I94MODE - There are missing values as well as not reported (9) */\n",
    "value i94model\n",
    "\t1 = 'Air'\n",
    "\t2 = 'Sea'\n",
    "\t3 = 'Land'\n",
    "\t9 = 'Not reported'\"\"\"\n",
    "\n",
    "df_sub_immigration = spark.sql(\"\"\"Select gender, i94addr as state, i94bir arrival_age, i94mode as arrival_mode, count \n",
    "                                FROM immigrationView\"\"\")"
   ]
  },
  {
   "cell_type": "code",
   "execution_count": 29,
   "metadata": {},
   "outputs": [],
   "source": [
    "#final staging immigration table \n",
    "df_sub_immigration.createOrReplaceTempView(\"df_sub_im\")"
   ]
  },
  {
   "cell_type": "code",
   "execution_count": 30,
   "metadata": {},
   "outputs": [],
   "source": [
    "df_sub_im1 = spark.sql(\"\"\"Select gender, state, avg(arrival_age) as avg_arrival_age, arrival_mode, count(count) as im_count \n",
    "FROM df_sub_im group by state, gender, arrival_mode\"\"\")\n",
    "\n",
    "df_sub_im1.createOrReplaceTempView(\"df_sub_im_sub\")"
   ]
  },
  {
   "cell_type": "code",
   "execution_count": 31,
   "metadata": {},
   "outputs": [
    {
     "name": "stdout",
     "output_type": "stream",
     "text": [
      "+------+-----+------------------+------------+--------+\n",
      "|gender|state|   avg_arrival_age|arrival_mode|im_count|\n",
      "+------+-----+------------------+------------+--------+\n",
      "|     F|   NH|              74.0|         1.0|       1|\n",
      "|     F|   MO|              71.5|         1.0|       2|\n",
      "|     F|   MN|              71.0|         1.0|       1|\n",
      "|     M|   OR|              66.0|         1.0|       1|\n",
      "|     M|   HI|              65.0|         2.0|       1|\n",
      "|     F|   CO|              62.5|         1.0|       2|\n",
      "|     F|   CT|              62.0|         1.0|       4|\n",
      "|     F|   VA|              61.5|         1.0|       6|\n",
      "|     F|   NE|              61.0|         3.0|       1|\n",
      "|     F|   OK|              59.0|         1.0|       1|\n",
      "|     F|   MD|             58.25|         1.0|       4|\n",
      "|     F|   OR|              58.0|         3.0|       1|\n",
      "|     M|   WA|57.166666666666664|         1.0|       6|\n",
      "|     F|   CA|              57.0|         3.0|       1|\n",
      "|     M|   DC|              56.0|         3.0|       1|\n",
      "|     M|   GA| 55.46666666666667|         1.0|      15|\n",
      "|     F|   KY|              55.0|         1.0|       1|\n",
      "|     F|   IN|              55.0|         1.0|       3|\n",
      "|     M|   NC|54.166666666666664|         1.0|       6|\n",
      "|     M|   IL| 53.15384615384615|         1.0|      13|\n",
      "+------+-----+------------------+------------+--------+\n",
      "only showing top 20 rows\n",
      "\n"
     ]
    }
   ],
   "source": [
    "# Final staging of immigration table \n",
    "\n",
    "spark.sql(\"\"\"SELECT * FROM df_sub_im_sub \n",
    "          Where gender is not Null \n",
    "          order by avg_arrival_age DESC\"\"\").show()"
   ]
  },
  {
   "cell_type": "code",
   "execution_count": 32,
   "metadata": {},
   "outputs": [
    {
     "name": "stdout",
     "output_type": "stream",
     "text": [
      "+------+------------------+------------+--------------------+------------+--------------+---------------+--------+\n",
      "|gender|   avg_arrival_age|arrival_mode|               state|sum_male_pop|sum_female_pop|sum_foreign_pop|im_count|\n",
      "+------+------------------+------------+--------------------+------------+--------------+---------------+--------+\n",
      "|     F|              36.0|         1.0|             Alabama|   2448200.0|     2715106.0|       252541.0|       2|\n",
      "|     M|              53.0|         1.0|             Alabama|   2448200.0|     2715106.0|       252541.0|       1|\n",
      "|  null|              53.0|         1.0|             Alabama|   2448200.0|     2715106.0|       252541.0|       2|\n",
      "|     M|             41.25|         1.0|             Arizona| 1.1137275E7|   1.1360435E7|      3411565.0|       4|\n",
      "|  null|              43.0|         1.0|             Arizona| 1.1137275E7|   1.1360435E7|      3411565.0|       1|\n",
      "|     M|              29.0|         1.0|            Arkansas|   1400724.0|     1482165.0|       307753.0|       1|\n",
      "|     M| 42.16867469879518|         1.0|          California| 6.1055672E7|   6.2388681E7|    3.7059662E7|      83|\n",
      "|  null|42.526315789473685|         1.0|          California| 6.1055672E7|   6.2388681E7|    3.7059662E7|      19|\n",
      "|     M|              29.0|         3.0|          California| 6.1055672E7|   6.2388681E7|    3.7059662E7|       3|\n",
      "|     F| 44.85964912280702|         1.0|          California| 6.1055672E7|   6.2388681E7|    3.7059662E7|      57|\n",
      "|     F|              57.0|         3.0|          California| 6.1055672E7|   6.2388681E7|    3.7059662E7|       1|\n",
      "|     M|              44.0|         1.0|            Colorado|   7273095.0|     7405250.0|      1688155.0|       2|\n",
      "|  null|              41.0|         1.0|            Colorado|   7273095.0|     7405250.0|      1688155.0|       1|\n",
      "|     F|              62.5|         1.0|            Colorado|   7273095.0|     7405250.0|      1688155.0|       2|\n",
      "|     F|              62.0|         1.0|         Connecticut|   2123435.0|     2231661.0|      1114250.0|       4|\n",
      "|  null|              58.0|         1.0|         Connecticut|   2123435.0|     2231661.0|      1114250.0|       1|\n",
      "|     M|              48.0|         1.0|         Connecticut|   2123435.0|     2231661.0|      1114250.0|       1|\n",
      "|     M|              56.0|         3.0|District of Columbia|   1598525.0|     1762615.0|       475585.0|       1|\n",
      "|     F|              42.6|         1.0|District of Columbia|   1598525.0|     1762615.0|       475585.0|       5|\n",
      "|  null|              69.0|         1.0|District of Columbia|   1598525.0|     1762615.0|       475585.0|       1|\n",
      "+------+------------------+------------+--------------------+------------+--------------+---------------+--------+\n",
      "only showing top 20 rows\n",
      "\n"
     ]
    }
   ],
   "source": [
    "# final staging tables summed and joined by state \n",
    "\n",
    "df_join = spark.sql(\"\"\"SELECT gender, avg_arrival_age, arrival_mode, df_sub_city_view.state, sum_male_pop, sum_female_pop, sum_foreign_pop, im_count \n",
    "             FROM df_sub_im_sub\n",
    "             JOIN df_sub_city_view\n",
    "             on df_sub_im_sub.state = df_sub_city_view.abbr\n",
    "          \"\"\")\n",
    "\n",
    "df_join.createOrReplaceTempView(\"final_table\")\n",
    "\n",
    "df_join.show()"
   ]
  },
  {
   "cell_type": "code",
   "execution_count": 51,
   "metadata": {},
   "outputs": [
    {
     "name": "stdout",
     "output_type": "stream",
     "text": [
      "+------+-------------+------------+---------------+------+\n",
      "|gender|        state|arrival_mode|sum_foreign_pop|count_|\n",
      "+------+-------------+------------+---------------+------+\n",
      "|     M|   California|         1.0|    3.7059662E7|    83|\n",
      "|     F|   California|         1.0|    3.7059662E7|    57|\n",
      "|     M|   California|         3.0|    3.7059662E7|     3|\n",
      "|     F|   California|         3.0|    3.7059662E7|     1|\n",
      "|     F|     New York|         1.0|    1.7186873E7|    84|\n",
      "|     M|     New York|         1.0|    1.7186873E7|    58|\n",
      "|     M|     New York|         3.0|    1.7186873E7|     1|\n",
      "|     F|     New York|         9.0|    1.7186873E7|     1|\n",
      "|     F|     New York|         3.0|    1.7186873E7|     1|\n",
      "|     M|        Texas|         1.0|    1.4498054E7|    21|\n",
      "|     F|        Texas|         1.0|    1.4498054E7|     9|\n",
      "|     M|        Texas|         3.0|    1.4498054E7|     3|\n",
      "|     M|      Florida|         1.0|      7845566.0|    84|\n",
      "|     F|      Florida|         1.0|      7845566.0|    71|\n",
      "|     M|      Florida|         3.0|      7845566.0|     1|\n",
      "|     M|     Illinois|         1.0|      4632600.0|    13|\n",
      "|     F|     Illinois|         1.0|      4632600.0|    12|\n",
      "|     M|     Illinois|         3.0|      4632600.0|     1|\n",
      "|     M|      Arizona|         1.0|      3411565.0|     4|\n",
      "|     F|Massachusetts|         1.0|      2573815.0|    11|\n",
      "+------+-------------+------------+---------------+------+\n",
      "only showing top 20 rows\n",
      "\n"
     ]
    }
   ],
   "source": [
    "#final Consolidated report of ongoing immigration compared to existing foreign populations by state\n",
    "\n",
    "spark.sql(\"\"\"SELECT gender, state, arrival_mode, sum_foreign_pop, sum(im_count) as count_\n",
    "          FROM final_table \n",
    "          WHERE (gender is not null and sum_foreign_pop is not null)\n",
    "          GROUP BY gender, state, arrival_mode, sum_foreign_pop \n",
    "          Order by sum_foreign_pop Desc, count_ Desc\n",
    "           \"\"\").show()"
   ]
  },
  {
   "cell_type": "markdown",
   "metadata": {},
   "source": [
    "#### 4.2 Data Quality Checks\n",
    "Explain the data quality checks you'll perform to ensure the pipeline ran as expected. These could include:\n",
    " * Integrity constraints on the relational database (e.g., unique key, data type, etc.)\n",
    " * Unit tests for the scripts to ensure they are doing the right thing\n",
    " * Source/Count checks to ensure completeness\n",
    " \n",
    "Run Quality Checks"
   ]
  },
  {
   "cell_type": "code",
   "execution_count": 33,
   "metadata": {},
   "outputs": [],
   "source": [
    "# immigration report by state, gender, mode of transporation with populations summed by state\n",
    "# Check to see if there are is any data in the report\n",
    "check = spark.sql(\" SELECT count(state) FROM final_table\").toPandas()\n",
    "\n",
    "# First table loaded, determines if there are any new records loaded\n",
    "check2 = df_city.count()\n"
   ]
  },
  {
   "cell_type": "code",
   "execution_count": 34,
   "metadata": {},
   "outputs": [
    {
     "name": "stdout",
     "output_type": "stream",
     "text": [
      "Initial table has been loaded...\n",
      "There are records in final report...checks passed\n"
     ]
    }
   ],
   "source": [
    "if check2 > 1:\n",
    "    print('Initial table has been loaded...')\n",
    "    if check['count(state)'][0] > 0:\n",
    "        print('There are records in final report...checks passed') \n",
    "else: \n",
    "    print(\"There has been an error\")"
   ]
  },
  {
   "cell_type": "markdown",
   "metadata": {},
   "source": [
    "#### 4.3 Data dictionary \n",
    "Create a data dictionary for your data model. For each field, provide a brief description of what the data is and where it came from. You can include the data dictionary in the notebook or in a separate file."
   ]
  },
  {
   "cell_type": "code",
   "execution_count": 35,
   "metadata": {},
   "outputs": [],
   "source": [
    "#Data Dictionary \n",
    "\n",
    "# Primary Fields:\n",
    "\n",
    "# Gender \n",
    "# State \n",
    "# Arrival Mode - 1 = 'Air'; 2 = 'Sea'; 3 = 'Land'; 9 = 'Not reported'\n",
    "# Sum_foreign_pop - The total foreign popululation for a given city \n",
    "# Count_- Immigration counts by 'Group By'"
   ]
  }
 ],
 "metadata": {
  "kernelspec": {
   "display_name": "Python 3",
   "language": "python",
   "name": "python3"
  },
  "language_info": {
   "codemirror_mode": {
    "name": "ipython",
    "version": 3
   },
   "file_extension": ".py",
   "mimetype": "text/x-python",
   "name": "python",
   "nbconvert_exporter": "python",
   "pygments_lexer": "ipython3",
   "version": "3.6.3"
  }
 },
 "nbformat": 4,
 "nbformat_minor": 4
}
