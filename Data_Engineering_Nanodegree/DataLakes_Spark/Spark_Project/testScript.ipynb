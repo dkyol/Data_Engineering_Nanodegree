{
 "cells": [
  {
   "cell_type": "code",
   "execution_count": 1,
   "metadata": {},
   "outputs": [],
   "source": [
    "from datetime import datetime\n",
    "import os\n",
    "from pyspark.sql import SparkSession\n",
    "from pyspark.sql.functions import udf, col\n",
    "from pyspark.sql.functions import year, month, dayofmonth, hour, weekofyear, date_format\n",
    "\n"
   ]
  },
  {
   "cell_type": "code",
   "execution_count": 2,
   "metadata": {},
   "outputs": [],
   "source": [
    "import configparser\n",
    "\n",
    "config = configparser.ConfigParser()\n",
    "config.read('dl.cfg')\n",
    "\n",
    "os.environ['AWS_ACCESS_KEY_ID']=config.get('AWS','AWS_ACCESS_KEY_ID')\n",
    "os.environ['AWS_SECRET_ACCESS_KEY']=config.get('AWS','AWS_SECRET_ACCESS_KEY')\n",
    "\n"
   ]
  },
  {
   "cell_type": "code",
   "execution_count": 3,
   "metadata": {},
   "outputs": [],
   "source": [
    "spark = SparkSession \\\n",
    "    .builder \\\n",
    "    .config(\"spark.jars.packages\", \"org.apache.hadoop:hadoop-aws:2.7.0\") \\\n",
    "    .getOrCreate()\n"
   ]
  },
  {
   "cell_type": "code",
   "execution_count": 4,
   "metadata": {},
   "outputs": [],
   "source": [
    "\n",
    "df = spark.read.json(\"s3a://udacity-dend/song_data/A/B/C/*.json\")"
   ]
  },
  {
   "cell_type": "code",
   "execution_count": 5,
   "metadata": {},
   "outputs": [],
   "source": [
    "dflog = spark.read.json(\"s3a://udacity-dend/log_data/2018/11/*.json\")"
   ]
  },
  {
   "cell_type": "code",
   "execution_count": 12,
   "metadata": {},
   "outputs": [
    {
     "name": "stdout",
     "output_type": "stream",
     "text": [
      "+------------------+---------------+--------------------+----------------+--------------------+---------+---------+------------------+--------------------+----+\n",
      "|         artist_id|artist_latitude|     artist_location|artist_longitude|         artist_name| duration|num_songs|           song_id|               title|year|\n",
      "+------------------+---------------+--------------------+----------------+--------------------+---------+---------+------------------+--------------------+----+\n",
      "|ARLTWXK1187FB5A3F8|       32.74863|      Fort Worth, TX|       -97.32925|         King Curtis|326.00771|        1|SODREIN12A58A7F2E5|A Whiter Shade Of...|   0|\n",
      "|ARIOZCU1187FB3A3DC|           null|          Hamlet, NC|            null|       JOHN COLTRANE|220.44689|        1|SOCEMJV12A6D4F7667|Giant Steps (Alte...|   0|\n",
      "|ARPFHN61187FB575F6|       41.88415|         Chicago, IL|       -87.63241|         Lupe Fiasco|279.97995|        1|SOWQTQZ12A58A7B63E|Streets On Fire (...|   0|\n",
      "|AR5S9OB1187B9931E3|       34.05349|     Los Angeles, CA|      -118.24532|         Bullet Boys|156.62975|        1|SOMAPYF12A6D4FEC3E|All Day & All Of ...|   0|\n",
      "|AR5T40Y1187B9996C6|           null|       Lulea, Sweden|            null|    The Bear Quartet| 249.3122|        1|SOAPVNX12AB0187625|I Remember Nights...|1998|\n",
      "|AR9OEB71187B9A97C6|           null|Edmonton, Alberta...|            null|              Faunts|397.16526|        1|SOFIUVJ12A8C13C296|Will You Tell Me ...|2005|\n",
      "|ARBDJHO1252CCFA6FC|           null|                    |            null|The Band of HM Ro...|188.73424|        1|SOBHXUU12A6D4F5F14|National Emblem (...|   0|\n",
      "|ARAADXM1187FB3ECDB|        34.1688|  Woodland Hills, CA|      -118.61092|    Styles Of Beyond| 67.63057|        1|SOQFYBD12AB0182188|               Intro|1999|\n",
      "|ARZJDBC1187FB52056|       27.94017|    Brandon, Florida|       -82.32547|        Nasty Savage|327.00036|        1|SOYLILV12A8C136650|                 XXX|1984|\n",
      "|AROSPS51187B9B481F|           null|                    |            null| Vince Guaraldi Trio|197.95546|        1|SOHTCZS12A6D4FC402|  The Christmas Song|1965|\n",
      "|AR0IAWL1187B9A96D0|         8.4177|              Panama|       -80.11278|        Danilo Perez|197.19791|        1|SONSKXP12A8C13A2C9|         Native Soul|2003|\n",
      "|ARCWVUK1187FB3C71A|           null|                    |            null|     Brigitte Bardot| 130.2722|        1|SOGHHXH12A8C13EBCB|C'Est Une Bossa Nova|1993|\n",
      "|ARZGTK71187B9AC7F5|           null|     California, USA|            null|                Eels|158.01424|        1|SOTDCIR12AB0184574|     I Need A Mother|2010|\n",
      "|ARWB3G61187FB49404|           null|      Hamilton, Ohio|            null|         Steve Morse|363.85914|        1|SODAUVL12A8C13D184|           Prognosis|2000|\n",
      "|ARCKOJF1241B9C75B4|           null|                    |            null|        Eddie Sierra|221.83138|        1|SOISMBN12AB0184784|Un hombre sentime...|   0|\n",
      "|ARCJWLU1187B9ADD36|           null|                    |            null|  Theory In Practice|274.54649|        1|SOEVPWF12A58A7D254|         Astral eyes|1997|\n",
      "|ARJIE2Y1187B994AB7|           null|                    |            null|         Line Renaud|152.92036|        1|SOUPIRU12A6D4FA1E1| Der Kleine Dompfaff|   0|\n",
      "|AREH0O41187FB4C405|           null|             Oakland|            null|             Skinlab|311.90159|        1|SOTMKDG12A67ADAB35|        Race Of Hate|1997|\n",
      "|ARMCJVK11F4C84373E|           null|                    |            null|      Fort Knox Five|  283.402|        1|SOYKDVO12A58A785C9|      Killa Soundboy|2008|\n",
      "|ARVBRGZ1187FB4675A|           null|                    |            null|        Gwen Stefani|290.55955|        1|SORRZGD12A6310DBC3|      Harajuku Girls|2004|\n",
      "+------------------+---------------+--------------------+----------------+--------------------+---------+---------+------------------+--------------------+----+\n",
      "only showing top 20 rows\n",
      "\n"
     ]
    }
   ],
   "source": [
    "df.show()"
   ]
  },
  {
   "cell_type": "code",
   "execution_count": 13,
   "metadata": {},
   "outputs": [
    {
     "data": {
      "text/plain": [
       "23"
      ]
     },
     "execution_count": 13,
     "metadata": {},
     "output_type": "execute_result"
    }
   ],
   "source": [
    "df.count()"
   ]
  },
  {
   "cell_type": "code",
   "execution_count": 6,
   "metadata": {},
   "outputs": [
    {
     "name": "stdout",
     "output_type": "stream",
     "text": [
      "root\n",
      " |-- artist_id: string (nullable = true)\n",
      " |-- artist_latitude: string (nullable = true)\n",
      " |-- artist_location: string (nullable = true)\n",
      " |-- artist_longitude: string (nullable = true)\n",
      " |-- artist_name: string (nullable = true)\n",
      " |-- duration: double (nullable = true)\n",
      " |-- num_songs: long (nullable = true)\n",
      " |-- song_id: string (nullable = true)\n",
      " |-- title: string (nullable = true)\n",
      " |-- year: long (nullable = true)\n",
      "\n"
     ]
    }
   ],
   "source": [
    "df.printSchema()"
   ]
  },
  {
   "cell_type": "code",
   "execution_count": 14,
   "metadata": {},
   "outputs": [
    {
     "name": "stdout",
     "output_type": "stream",
     "text": [
      "root\n",
      " |-- artist: string (nullable = true)\n",
      " |-- auth: string (nullable = true)\n",
      " |-- firstName: string (nullable = true)\n",
      " |-- gender: string (nullable = true)\n",
      " |-- itemInSession: long (nullable = true)\n",
      " |-- lastName: string (nullable = true)\n",
      " |-- length: double (nullable = true)\n",
      " |-- level: string (nullable = true)\n",
      " |-- location: string (nullable = true)\n",
      " |-- method: string (nullable = true)\n",
      " |-- page: string (nullable = true)\n",
      " |-- registration: double (nullable = true)\n",
      " |-- sessionId: long (nullable = true)\n",
      " |-- song: string (nullable = true)\n",
      " |-- status: long (nullable = true)\n",
      " |-- ts: long (nullable = true)\n",
      " |-- userAgent: string (nullable = true)\n",
      " |-- userId: string (nullable = true)\n",
      "\n"
     ]
    }
   ],
   "source": [
    "dflog.printSchema()"
   ]
  },
  {
   "cell_type": "code",
   "execution_count": 15,
   "metadata": {},
   "outputs": [
    {
     "data": {
      "text/plain": [
       "8056"
      ]
     },
     "execution_count": 15,
     "metadata": {},
     "output_type": "execute_result"
    }
   ],
   "source": [
    "dflog.count()"
   ]
  },
  {
   "cell_type": "code",
   "execution_count": 6,
   "metadata": {},
   "outputs": [],
   "source": [
    "df.createOrReplaceTempView(\"song_view\")"
   ]
  },
  {
   "cell_type": "code",
   "execution_count": 7,
   "metadata": {},
   "outputs": [],
   "source": [
    "song = spark.sql(\"SELECT song_id, title, artist_id, year, duration FROM song_view\")"
   ]
  },
  {
   "cell_type": "code",
   "execution_count": 103,
   "metadata": {},
   "outputs": [],
   "source": [
    "artist = spark.sql(\"SELECT artist FROM log_view\")"
   ]
  },
  {
   "cell_type": "code",
   "execution_count": 104,
   "metadata": {},
   "outputs": [
    {
     "name": "stdout",
     "output_type": "stream",
     "text": [
      "+--------------------+\n",
      "|              artist|\n",
      "+--------------------+\n",
      "|            Harmonia|\n",
      "|         The Prodigy|\n",
      "|               Train|\n",
      "|         Sony Wonder|\n",
      "|           Van Halen|\n",
      "|           Magic Sam|\n",
      "|Edward Sharpe & T...|\n",
      "|Usher featuring w...|\n",
      "|         Helen Reddy|\n",
      "|        Taylor Swift|\n",
      "|           Sean Paul|\n",
      "|         Soundgarden|\n",
      "|         The Killers|\n",
      "|       Amy Winehouse|\n",
      "|      Steve Anderson|\n",
      "|          Rob Zombie|\n",
      "|  Deadmau5 & Kaskade|\n",
      "|        Shania Twain|\n",
      "|      Los Campesinos|\n",
      "|            Ill Nino|\n",
      "+--------------------+\n",
      "only showing top 20 rows\n",
      "\n"
     ]
    }
   ],
   "source": [
    "artist.show()"
   ]
  },
  {
   "cell_type": "code",
   "execution_count": 106,
   "metadata": {},
   "outputs": [],
   "source": [
    "artist1 = spark.sql(\"SELECT artist_name FROM song_view\")"
   ]
  },
  {
   "cell_type": "code",
   "execution_count": 108,
   "metadata": {},
   "outputs": [
    {
     "name": "stdout",
     "output_type": "stream",
     "text": [
      "+--------------------+\n",
      "|         artist_name|\n",
      "+--------------------+\n",
      "|         King Curtis|\n",
      "|       JOHN COLTRANE|\n",
      "|         Lupe Fiasco|\n",
      "|         Bullet Boys|\n",
      "|    The Bear Quartet|\n",
      "|              Faunts|\n",
      "|The Band of HM Ro...|\n",
      "|    Styles Of Beyond|\n",
      "|        Nasty Savage|\n",
      "| Vince Guaraldi Trio|\n",
      "|        Danilo Perez|\n",
      "|     Brigitte Bardot|\n",
      "|                Eels|\n",
      "|         Steve Morse|\n",
      "|        Eddie Sierra|\n",
      "|  Theory In Practice|\n",
      "|         Line Renaud|\n",
      "|             Skinlab|\n",
      "|      Fort Knox Five|\n",
      "|        Gwen Stefani|\n",
      "+--------------------+\n",
      "only showing top 20 rows\n",
      "\n"
     ]
    }
   ],
   "source": [
    "artist1.show()"
   ]
  },
  {
   "cell_type": "code",
   "execution_count": 8,
   "metadata": {},
   "outputs": [
    {
     "name": "stdout",
     "output_type": "stream",
     "text": [
      "+------------------+--------------------+------------------+----+---------+\n",
      "|           song_id|               title|         artist_id|year| duration|\n",
      "+------------------+--------------------+------------------+----+---------+\n",
      "|SODREIN12A58A7F2E5|A Whiter Shade Of...|ARLTWXK1187FB5A3F8|   0|326.00771|\n",
      "|SOCEMJV12A6D4F7667|Giant Steps (Alte...|ARIOZCU1187FB3A3DC|   0|220.44689|\n",
      "|SOWQTQZ12A58A7B63E|Streets On Fire (...|ARPFHN61187FB575F6|   0|279.97995|\n",
      "|SOMAPYF12A6D4FEC3E|All Day & All Of ...|AR5S9OB1187B9931E3|   0|156.62975|\n",
      "|SOAPVNX12AB0187625|I Remember Nights...|AR5T40Y1187B9996C6|1998| 249.3122|\n",
      "|SOFIUVJ12A8C13C296|Will You Tell Me ...|AR9OEB71187B9A97C6|2005|397.16526|\n",
      "|SOBHXUU12A6D4F5F14|National Emblem (...|ARBDJHO1252CCFA6FC|   0|188.73424|\n",
      "|SOQFYBD12AB0182188|               Intro|ARAADXM1187FB3ECDB|1999| 67.63057|\n",
      "|SOYLILV12A8C136650|                 XXX|ARZJDBC1187FB52056|1984|327.00036|\n",
      "|SOHTCZS12A6D4FC402|  The Christmas Song|AROSPS51187B9B481F|1965|197.95546|\n",
      "|SONSKXP12A8C13A2C9|         Native Soul|AR0IAWL1187B9A96D0|2003|197.19791|\n",
      "|SOGHHXH12A8C13EBCB|C'Est Une Bossa Nova|ARCWVUK1187FB3C71A|1993| 130.2722|\n",
      "|SOTDCIR12AB0184574|     I Need A Mother|ARZGTK71187B9AC7F5|2010|158.01424|\n",
      "|SODAUVL12A8C13D184|           Prognosis|ARWB3G61187FB49404|2000|363.85914|\n",
      "|SOISMBN12AB0184784|Un hombre sentime...|ARCKOJF1241B9C75B4|   0|221.83138|\n",
      "|SOEVPWF12A58A7D254|         Astral eyes|ARCJWLU1187B9ADD36|1997|274.54649|\n",
      "|SOUPIRU12A6D4FA1E1| Der Kleine Dompfaff|ARJIE2Y1187B994AB7|   0|152.92036|\n",
      "|SOTMKDG12A67ADAB35|        Race Of Hate|AREH0O41187FB4C405|1997|311.90159|\n",
      "|SOYKDVO12A58A785C9|      Killa Soundboy|ARMCJVK11F4C84373E|2008|  283.402|\n",
      "|SORRZGD12A6310DBC3|      Harajuku Girls|ARVBRGZ1187FB4675A|2004|290.55955|\n",
      "+------------------+--------------------+------------------+----+---------+\n",
      "only showing top 20 rows\n",
      "\n"
     ]
    }
   ],
   "source": [
    "song.show()"
   ]
  },
  {
   "cell_type": "code",
   "execution_count": 23,
   "metadata": {},
   "outputs": [
    {
     "data": {
      "text/plain": [
       "<pyspark.sql.readwriter.DataFrameWriter at 0x7fe6c36a8d30>"
      ]
     },
     "execution_count": 23,
     "metadata": {},
     "output_type": "execute_result"
    }
   ],
   "source": [
    "song.write.mode(\"overwrite\").partitionBy(\"year\",\"artist_id\")"
   ]
  },
  {
   "cell_type": "code",
   "execution_count": 24,
   "metadata": {},
   "outputs": [],
   "source": [
    "artist_table = spark.sql(\"SELECT artist_id, artist_location, artist_latitude, artist_longitude FROM song_view\")"
   ]
  },
  {
   "cell_type": "code",
   "execution_count": 25,
   "metadata": {},
   "outputs": [
    {
     "name": "stdout",
     "output_type": "stream",
     "text": [
      "+------------------+--------------------+---------------+----------------+\n",
      "|         artist_id|     artist_location|artist_latitude|artist_longitude|\n",
      "+------------------+--------------------+---------------+----------------+\n",
      "|ARLTWXK1187FB5A3F8|      Fort Worth, TX|       32.74863|       -97.32925|\n",
      "|ARIOZCU1187FB3A3DC|          Hamlet, NC|           null|            null|\n",
      "|ARPFHN61187FB575F6|         Chicago, IL|       41.88415|       -87.63241|\n",
      "|AR5S9OB1187B9931E3|     Los Angeles, CA|       34.05349|      -118.24532|\n",
      "|AR5T40Y1187B9996C6|       Lulea, Sweden|           null|            null|\n",
      "|AR9OEB71187B9A97C6|Edmonton, Alberta...|           null|            null|\n",
      "|ARBDJHO1252CCFA6FC|                    |           null|            null|\n",
      "|ARAADXM1187FB3ECDB|  Woodland Hills, CA|        34.1688|      -118.61092|\n",
      "|ARZJDBC1187FB52056|    Brandon, Florida|       27.94017|       -82.32547|\n",
      "|AROSPS51187B9B481F|                    |           null|            null|\n",
      "|AR0IAWL1187B9A96D0|              Panama|         8.4177|       -80.11278|\n",
      "|ARCWVUK1187FB3C71A|                    |           null|            null|\n",
      "|ARZGTK71187B9AC7F5|     California, USA|           null|            null|\n",
      "|ARWB3G61187FB49404|      Hamilton, Ohio|           null|            null|\n",
      "|ARCKOJF1241B9C75B4|                    |           null|            null|\n",
      "|ARCJWLU1187B9ADD36|                    |           null|            null|\n",
      "|ARJIE2Y1187B994AB7|                    |           null|            null|\n",
      "|AREH0O41187FB4C405|             Oakland|           null|            null|\n",
      "|ARMCJVK11F4C84373E|                    |           null|            null|\n",
      "|ARVBRGZ1187FB4675A|                    |           null|            null|\n",
      "+------------------+--------------------+---------------+----------------+\n",
      "only showing top 20 rows\n",
      "\n"
     ]
    }
   ],
   "source": [
    "artist_table.show()"
   ]
  },
  {
   "cell_type": "code",
   "execution_count": 26,
   "metadata": {},
   "outputs": [
    {
     "name": "stdout",
     "output_type": "stream",
     "text": [
      "+--------------------+----------+---------+------+-------------+--------+---------+-----+--------------------+------+--------+-----------------+---------+--------------------+------+-------------+--------------------+------+\n",
      "|              artist|      auth|firstName|gender|itemInSession|lastName|   length|level|            location|method|    page|     registration|sessionId|                song|status|           ts|           userAgent|userId|\n",
      "+--------------------+----------+---------+------+-------------+--------+---------+-----+--------------------+------+--------+-----------------+---------+--------------------+------+-------------+--------------------+------+\n",
      "|            Harmonia| Logged In|     Ryan|     M|            0|   Smith|655.77751| free|San Jose-Sunnyval...|   PUT|NextSong|1.541016707796E12|      583|       Sehr kosmisch|   200|1542241826796|\"Mozilla/5.0 (X11...|    26|\n",
      "|         The Prodigy| Logged In|     Ryan|     M|            1|   Smith|260.07465| free|San Jose-Sunnyval...|   PUT|NextSong|1.541016707796E12|      583|     The Big Gundown|   200|1542242481796|\"Mozilla/5.0 (X11...|    26|\n",
      "|               Train| Logged In|     Ryan|     M|            2|   Smith|205.45261| free|San Jose-Sunnyval...|   PUT|NextSong|1.541016707796E12|      583|            Marry Me|   200|1542242741796|\"Mozilla/5.0 (X11...|    26|\n",
      "|                null| Logged In|    Wyatt|     M|            0|   Scott|     null| free|Eureka-Arcata-For...|   GET|    Home|1.540872073796E12|      563|                null|   200|1542247071796|Mozilla/5.0 (Wind...|     9|\n",
      "|                null| Logged In|   Austin|     M|            0| Rosales|     null| free|New York-Newark-J...|   GET|    Home|1.541059521796E12|      521|                null|   200|1542252577796|Mozilla/5.0 (Wind...|    12|\n",
      "|         Sony Wonder| Logged In|   Samuel|     M|            0|Gonzalez|218.06975| free|Houston-The Woodl...|   PUT|NextSong|1.540492941796E12|      597|           Blackbird|   200|1542253449796|\"Mozilla/5.0 (Mac...|    61|\n",
      "|                null| Logged In|   Samuel|     M|            1|Gonzalez|     null| free|Houston-The Woodl...|   GET|   About|1.540492941796E12|      597|                null|   200|1542253460796|\"Mozilla/5.0 (Mac...|    61|\n",
      "|                null|Logged Out|     null|  null|            0|    null|     null| paid|                null|   PUT|   Login|             null|      602|                null|   307|1542260074796|                null|      |\n",
      "|                null| Logged In|    Tegan|     F|            1|  Levine|     null| paid|Portland-South Po...|   GET|    Home|1.540794356796E12|      602|                null|   200|1542260277796|\"Mozilla/5.0 (Mac...|    80|\n",
      "|           Van Halen| Logged In|    Tegan|     F|            2|  Levine|289.38404| paid|Portland-South Po...|   PUT|NextSong|1.540794356796E12|      602|Best Of Both Worl...|   200|1542260935796|\"Mozilla/5.0 (Mac...|    80|\n",
      "|           Magic Sam| Logged In|    Tegan|     F|            3|  Levine|132.04853| paid|Portland-South Po...|   PUT|NextSong|1.540794356796E12|      602|Call Me If You Ne...|   200|1542261224796|\"Mozilla/5.0 (Mac...|    80|\n",
      "|Edward Sharpe & T...| Logged In|    Tegan|     F|            4|  Levine|306.31138| paid|Portland-South Po...|   PUT|NextSong|1.540794356796E12|      602|                Home|   200|1542261356796|\"Mozilla/5.0 (Mac...|    80|\n",
      "|Usher featuring w...| Logged In|    Tegan|     F|            5|  Levine|395.72853| paid|Portland-South Po...|   PUT|NextSong|1.540794356796E12|      602|                 OMG|   200|1542261662796|\"Mozilla/5.0 (Mac...|    80|\n",
      "|                null| Logged In|    Tegan|     F|            6|  Levine|     null| paid|Portland-South Po...|   GET|    Home|1.540794356796E12|      602|                null|   200|1542261713796|\"Mozilla/5.0 (Mac...|    80|\n",
      "|         Helen Reddy| Logged In|    Tegan|     F|            7|  Levine|176.50893| paid|Portland-South Po...|   PUT|NextSong|1.540794356796E12|      602| Candle On The Water|   200|1542262057796|\"Mozilla/5.0 (Mac...|    80|\n",
      "|        Taylor Swift| Logged In|    Tegan|     F|            8|  Levine|201.06404| paid|Portland-South Po...|   PUT|NextSong|1.540794356796E12|      602|            Our Song|   200|1542262233796|\"Mozilla/5.0 (Mac...|    80|\n",
      "|           Sean Paul| Logged In|    Tegan|     F|            9|  Levine|245.34159| paid|Portland-South Po...|   PUT|NextSong|1.540794356796E12|      602|Baby Boy [feat. B...|   200|1542262434796|\"Mozilla/5.0 (Mac...|    80|\n",
      "|         Soundgarden| Logged In|     Lily|     F|            0|    Koch|272.19546| paid|Chicago-Napervill...|   PUT|NextSong|1.541048010796E12|      582|      Black Hole Sun|   200|1542262456796|\"Mozilla/5.0 (X11...|    15|\n",
      "|         The Killers| Logged In|    Tegan|     F|           10|  Levine|360.75057| paid|Portland-South Po...|   PUT|NextSong|1.540794356796E12|      602|               Human|   200|1542262679796|\"Mozilla/5.0 (Mac...|    80|\n",
      "|       Amy Winehouse| Logged In|     Lily|     F|            1|    Koch|165.11955| paid|Chicago-Napervill...|   PUT|NextSong|1.541048010796E12|      582|            Addicted|   200|1542262728796|\"Mozilla/5.0 (X11...|    15|\n",
      "+--------------------+----------+---------+------+-------------+--------+---------+-----+--------------------+------+--------+-----------------+---------+--------------------+------+-------------+--------------------+------+\n",
      "only showing top 20 rows\n",
      "\n"
     ]
    }
   ],
   "source": [
    "dflog.show()"
   ]
  },
  {
   "cell_type": "code",
   "execution_count": 29,
   "metadata": {},
   "outputs": [],
   "source": [
    "dffilter = dflog.filter(dflog.page == 'NextSong')"
   ]
  },
  {
   "cell_type": "code",
   "execution_count": 101,
   "metadata": {},
   "outputs": [
    {
     "ename": "TypeError",
     "evalue": "'Column' object is not callable",
     "output_type": "error",
     "traceback": [
      "\u001b[0;31m---------------------------------------------------------------------------\u001b[0m",
      "\u001b[0;31mTypeError\u001b[0m                                 Traceback (most recent call last)",
      "\u001b[0;32m<ipython-input-101-512dd89ec064>\u001b[0m in \u001b[0;36m<module>\u001b[0;34m()\u001b[0m\n\u001b[0;32m----> 1\u001b[0;31m \u001b[0mdffilter\u001b[0m\u001b[0;34m.\u001b[0m\u001b[0martist\u001b[0m\u001b[0;34m.\u001b[0m\u001b[0mtake\u001b[0m\u001b[0;34m(\u001b[0m\u001b[0;34m)\u001b[0m\u001b[0;34m\u001b[0m\u001b[0m\n\u001b[0m",
      "\u001b[0;31mTypeError\u001b[0m: 'Column' object is not callable"
     ]
    }
   ],
   "source": []
  },
  {
   "cell_type": "code",
   "execution_count": 30,
   "metadata": {},
   "outputs": [
    {
     "name": "stdout",
     "output_type": "stream",
     "text": [
      "+--------------------+---------+---------+------+-------------+--------+---------+-----+--------------------+------+--------+-----------------+---------+--------------------+------+-------------+--------------------+------+\n",
      "|              artist|     auth|firstName|gender|itemInSession|lastName|   length|level|            location|method|    page|     registration|sessionId|                song|status|           ts|           userAgent|userId|\n",
      "+--------------------+---------+---------+------+-------------+--------+---------+-----+--------------------+------+--------+-----------------+---------+--------------------+------+-------------+--------------------+------+\n",
      "|            Harmonia|Logged In|     Ryan|     M|            0|   Smith|655.77751| free|San Jose-Sunnyval...|   PUT|NextSong|1.541016707796E12|      583|       Sehr kosmisch|   200|1542241826796|\"Mozilla/5.0 (X11...|    26|\n",
      "|         The Prodigy|Logged In|     Ryan|     M|            1|   Smith|260.07465| free|San Jose-Sunnyval...|   PUT|NextSong|1.541016707796E12|      583|     The Big Gundown|   200|1542242481796|\"Mozilla/5.0 (X11...|    26|\n",
      "|               Train|Logged In|     Ryan|     M|            2|   Smith|205.45261| free|San Jose-Sunnyval...|   PUT|NextSong|1.541016707796E12|      583|            Marry Me|   200|1542242741796|\"Mozilla/5.0 (X11...|    26|\n",
      "|         Sony Wonder|Logged In|   Samuel|     M|            0|Gonzalez|218.06975| free|Houston-The Woodl...|   PUT|NextSong|1.540492941796E12|      597|           Blackbird|   200|1542253449796|\"Mozilla/5.0 (Mac...|    61|\n",
      "|           Van Halen|Logged In|    Tegan|     F|            2|  Levine|289.38404| paid|Portland-South Po...|   PUT|NextSong|1.540794356796E12|      602|Best Of Both Worl...|   200|1542260935796|\"Mozilla/5.0 (Mac...|    80|\n",
      "|           Magic Sam|Logged In|    Tegan|     F|            3|  Levine|132.04853| paid|Portland-South Po...|   PUT|NextSong|1.540794356796E12|      602|Call Me If You Ne...|   200|1542261224796|\"Mozilla/5.0 (Mac...|    80|\n",
      "|Edward Sharpe & T...|Logged In|    Tegan|     F|            4|  Levine|306.31138| paid|Portland-South Po...|   PUT|NextSong|1.540794356796E12|      602|                Home|   200|1542261356796|\"Mozilla/5.0 (Mac...|    80|\n",
      "|Usher featuring w...|Logged In|    Tegan|     F|            5|  Levine|395.72853| paid|Portland-South Po...|   PUT|NextSong|1.540794356796E12|      602|                 OMG|   200|1542261662796|\"Mozilla/5.0 (Mac...|    80|\n",
      "|         Helen Reddy|Logged In|    Tegan|     F|            7|  Levine|176.50893| paid|Portland-South Po...|   PUT|NextSong|1.540794356796E12|      602| Candle On The Water|   200|1542262057796|\"Mozilla/5.0 (Mac...|    80|\n",
      "|        Taylor Swift|Logged In|    Tegan|     F|            8|  Levine|201.06404| paid|Portland-South Po...|   PUT|NextSong|1.540794356796E12|      602|            Our Song|   200|1542262233796|\"Mozilla/5.0 (Mac...|    80|\n",
      "|           Sean Paul|Logged In|    Tegan|     F|            9|  Levine|245.34159| paid|Portland-South Po...|   PUT|NextSong|1.540794356796E12|      602|Baby Boy [feat. B...|   200|1542262434796|\"Mozilla/5.0 (Mac...|    80|\n",
      "|         Soundgarden|Logged In|     Lily|     F|            0|    Koch|272.19546| paid|Chicago-Napervill...|   PUT|NextSong|1.541048010796E12|      582|      Black Hole Sun|   200|1542262456796|\"Mozilla/5.0 (X11...|    15|\n",
      "|         The Killers|Logged In|    Tegan|     F|           10|  Levine|360.75057| paid|Portland-South Po...|   PUT|NextSong|1.540794356796E12|      602|               Human|   200|1542262679796|\"Mozilla/5.0 (Mac...|    80|\n",
      "|       Amy Winehouse|Logged In|     Lily|     F|            1|    Koch|165.11955| paid|Chicago-Napervill...|   PUT|NextSong|1.541048010796E12|      582|            Addicted|   200|1542262728796|\"Mozilla/5.0 (X11...|    15|\n",
      "|      Steve Anderson|Logged In|     Lily|     F|            2|    Koch|265.06404| paid|Chicago-Napervill...|   PUT|NextSong|1.541048010796E12|      582|                 Air|   200|1542262893796|\"Mozilla/5.0 (X11...|    15|\n",
      "|          Rob Zombie|Logged In|     Lily|     F|            3|    Koch|220.13342| paid|Chicago-Napervill...|   PUT|NextSong|1.541048010796E12|      582|          Superbeast|   200|1542263158796|\"Mozilla/5.0 (X11...|    15|\n",
      "|  Deadmau5 & Kaskade|Logged In|     Lily|     F|            4|    Koch|595.56526| paid|Chicago-Napervill...|   PUT|NextSong|1.541048010796E12|      582|          I Remember|   200|1542263378796|\"Mozilla/5.0 (X11...|    15|\n",
      "|        Shania Twain|Logged In|     Ryan|     M|            0|   Smith| 213.7073| free|San Jose-Sunnyval...|   PUT|NextSong|1.541016707796E12|      607|Don't Be Stupid (...|   200|1542265716796|\"Mozilla/5.0 (X11...|    26|\n",
      "|      Los Campesinos|Logged In|     Ryan|     M|            1|   Smith|138.10893| free|San Jose-Sunnyval...|   PUT|NextSong|1.541016707796E12|      607|We throw parties_...|   200|1542265929796|\"Mozilla/5.0 (X11...|    26|\n",
      "|            Ill Nino|Logged In|    Chloe|     F|            1|  Cuevas| 188.9171| paid|San Francisco-Oak...|   PUT|NextSong|1.540940782796E12|      606|How Can I Live (S...|   200|1542266927796|Mozilla/5.0 (Wind...|    49|\n",
      "+--------------------+---------+---------+------+-------------+--------+---------+-----+--------------------+------+--------+-----------------+---------+--------------------+------+-------------+--------------------+------+\n",
      "only showing top 20 rows\n",
      "\n"
     ]
    }
   ],
   "source": [
    "dffilter.show()"
   ]
  },
  {
   "cell_type": "code",
   "execution_count": 31,
   "metadata": {},
   "outputs": [],
   "source": [
    "dffilter.createOrReplaceTempView(\"log_view\")"
   ]
  },
  {
   "cell_type": "code",
   "execution_count": 33,
   "metadata": {},
   "outputs": [
    {
     "name": "stdout",
     "output_type": "stream",
     "text": [
      "root\n",
      " |-- artist: string (nullable = true)\n",
      " |-- auth: string (nullable = true)\n",
      " |-- firstName: string (nullable = true)\n",
      " |-- gender: string (nullable = true)\n",
      " |-- itemInSession: long (nullable = true)\n",
      " |-- lastName: string (nullable = true)\n",
      " |-- length: double (nullable = true)\n",
      " |-- level: string (nullable = true)\n",
      " |-- location: string (nullable = true)\n",
      " |-- method: string (nullable = true)\n",
      " |-- page: string (nullable = true)\n",
      " |-- registration: double (nullable = true)\n",
      " |-- sessionId: long (nullable = true)\n",
      " |-- song: string (nullable = true)\n",
      " |-- status: long (nullable = true)\n",
      " |-- ts: long (nullable = true)\n",
      " |-- userAgent: string (nullable = true)\n",
      " |-- userId: string (nullable = true)\n",
      "\n"
     ]
    }
   ],
   "source": [
    "dffilter.printSchema()"
   ]
  },
  {
   "cell_type": "code",
   "execution_count": 35,
   "metadata": {},
   "outputs": [],
   "source": [
    "user = spark.sql('SELECT userId, firstName, lastName, gender, level FROM log_view')"
   ]
  },
  {
   "cell_type": "code",
   "execution_count": 36,
   "metadata": {},
   "outputs": [
    {
     "name": "stdout",
     "output_type": "stream",
     "text": [
      "+------+---------+--------+------+-----+\n",
      "|userId|firstName|lastName|gender|level|\n",
      "+------+---------+--------+------+-----+\n",
      "|    26|     Ryan|   Smith|     M| free|\n",
      "|    26|     Ryan|   Smith|     M| free|\n",
      "|    26|     Ryan|   Smith|     M| free|\n",
      "|    61|   Samuel|Gonzalez|     M| free|\n",
      "|    80|    Tegan|  Levine|     F| paid|\n",
      "|    80|    Tegan|  Levine|     F| paid|\n",
      "|    80|    Tegan|  Levine|     F| paid|\n",
      "|    80|    Tegan|  Levine|     F| paid|\n",
      "|    80|    Tegan|  Levine|     F| paid|\n",
      "|    80|    Tegan|  Levine|     F| paid|\n",
      "|    80|    Tegan|  Levine|     F| paid|\n",
      "|    15|     Lily|    Koch|     F| paid|\n",
      "|    80|    Tegan|  Levine|     F| paid|\n",
      "|    15|     Lily|    Koch|     F| paid|\n",
      "|    15|     Lily|    Koch|     F| paid|\n",
      "|    15|     Lily|    Koch|     F| paid|\n",
      "|    15|     Lily|    Koch|     F| paid|\n",
      "|    26|     Ryan|   Smith|     M| free|\n",
      "|    26|     Ryan|   Smith|     M| free|\n",
      "|    49|    Chloe|  Cuevas|     F| paid|\n",
      "+------+---------+--------+------+-----+\n",
      "only showing top 20 rows\n",
      "\n"
     ]
    }
   ],
   "source": [
    "user.show()"
   ]
  },
  {
   "cell_type": "code",
   "execution_count": 38,
   "metadata": {},
   "outputs": [],
   "source": [
    "time = spark.sql(\"SELECT ts FROM log_view\")"
   ]
  },
  {
   "cell_type": "code",
   "execution_count": 39,
   "metadata": {},
   "outputs": [
    {
     "name": "stdout",
     "output_type": "stream",
     "text": [
      "+-------------+\n",
      "|           ts|\n",
      "+-------------+\n",
      "|1542241826796|\n",
      "|1542242481796|\n",
      "|1542242741796|\n",
      "|1542253449796|\n",
      "|1542260935796|\n",
      "|1542261224796|\n",
      "|1542261356796|\n",
      "|1542261662796|\n",
      "|1542262057796|\n",
      "|1542262233796|\n",
      "|1542262434796|\n",
      "|1542262456796|\n",
      "|1542262679796|\n",
      "|1542262728796|\n",
      "|1542262893796|\n",
      "|1542263158796|\n",
      "|1542263378796|\n",
      "|1542265716796|\n",
      "|1542265929796|\n",
      "|1542266927796|\n",
      "+-------------+\n",
      "only showing top 20 rows\n",
      "\n"
     ]
    }
   ],
   "source": [
    "time.show()"
   ]
  },
  {
   "cell_type": "code",
   "execution_count": 74,
   "metadata": {},
   "outputs": [],
   "source": [
    "@udf\n",
    "def timeConv(ms):\n",
    "    \n",
    "    import datetime\n",
    "    \n",
    "    sec = int(ms)/1000\n",
    "    \n",
    "    result = datetime.datetime.fromtimestamp(sec).strftime('%Y-%m-%d %H:%M:%S.%f')\n",
    "\n",
    "    return result"
   ]
  },
  {
   "cell_type": "code",
   "execution_count": 75,
   "metadata": {},
   "outputs": [],
   "source": [
    "a = time.withColumn('datetime', timeConv(\"ts\"))"
   ]
  },
  {
   "cell_type": "code",
   "execution_count": 76,
   "metadata": {},
   "outputs": [
    {
     "name": "stdout",
     "output_type": "stream",
     "text": [
      "+-------------+--------------------+\n",
      "|           ts|            datetime|\n",
      "+-------------+--------------------+\n",
      "|1542241826796|2018-11-15 00:30:...|\n",
      "|1542242481796|2018-11-15 00:41:...|\n",
      "|1542242741796|2018-11-15 00:45:...|\n",
      "|1542253449796|2018-11-15 03:44:...|\n",
      "|1542260935796|2018-11-15 05:48:...|\n",
      "|1542261224796|2018-11-15 05:53:...|\n",
      "|1542261356796|2018-11-15 05:55:...|\n",
      "|1542261662796|2018-11-15 06:01:...|\n",
      "|1542262057796|2018-11-15 06:07:...|\n",
      "|1542262233796|2018-11-15 06:10:...|\n",
      "|1542262434796|2018-11-15 06:13:...|\n",
      "|1542262456796|2018-11-15 06:14:...|\n",
      "|1542262679796|2018-11-15 06:17:...|\n",
      "|1542262728796|2018-11-15 06:18:...|\n",
      "|1542262893796|2018-11-15 06:21:...|\n",
      "|1542263158796|2018-11-15 06:25:...|\n",
      "|1542263378796|2018-11-15 06:29:...|\n",
      "|1542265716796|2018-11-15 07:08:...|\n",
      "|1542265929796|2018-11-15 07:12:...|\n",
      "|1542266927796|2018-11-15 07:28:...|\n",
      "+-------------+--------------------+\n",
      "only showing top 20 rows\n",
      "\n"
     ]
    }
   ],
   "source": [
    "a.show()"
   ]
  },
  {
   "cell_type": "code",
   "execution_count": 80,
   "metadata": {},
   "outputs": [],
   "source": [
    "a.createOrReplaceTempView(\"time\")"
   ]
  },
  {
   "cell_type": "code",
   "execution_count": 90,
   "metadata": {},
   "outputs": [],
   "source": [
    "time_table = spark.sql(\"SELECT distinct(ts), datetime FROM time\")"
   ]
  },
  {
   "cell_type": "code",
   "execution_count": 91,
   "metadata": {},
   "outputs": [
    {
     "name": "stdout",
     "output_type": "stream",
     "text": [
      "+-------------+--------------------+\n",
      "|           ts|            datetime|\n",
      "+-------------+--------------------+\n",
      "|1542295580796|2018-11-15 15:26:...|\n",
      "|1542296032796|2018-11-15 15:33:...|\n",
      "|1542299847796|2018-11-15 16:37:...|\n",
      "|1542314793796|2018-11-15 20:46:...|\n",
      "|1542779804796|2018-11-21 05:56:...|\n",
      "|1542793114796|2018-11-21 09:38:...|\n",
      "|1542842644796|2018-11-21 23:24:...|\n",
      "|1542186737796|2018-11-14 09:12:...|\n",
      "|1542195958796|2018-11-14 11:45:...|\n",
      "|1543397770796|2018-11-28 09:36:...|\n",
      "|1543437391796|2018-11-28 20:36:...|\n",
      "|1541385481796|2018-11-05 02:38:...|\n",
      "|1541424913796|2018-11-05 13:35:...|\n",
      "|1541429962796|2018-11-05 14:59:...|\n",
      "|1541435666796|2018-11-05 16:34:...|\n",
      "|1542134866796|2018-11-13 18:47:...|\n",
      "|1543603205796|2018-11-30 18:40:...|\n",
      "|1542393418796|2018-11-16 18:36:...|\n",
      "|1542675563796|2018-11-20 00:59:...|\n",
      "|1542725885796|2018-11-20 14:58:...|\n",
      "+-------------+--------------------+\n",
      "only showing top 20 rows\n",
      "\n"
     ]
    }
   ],
   "source": [
    "time_table.show()"
   ]
  },
  {
   "cell_type": "code",
   "execution_count": 77,
   "metadata": {},
   "outputs": [
    {
     "name": "stdout",
     "output_type": "stream",
     "text": [
      "root\n",
      " |-- artist: string (nullable = true)\n",
      " |-- auth: string (nullable = true)\n",
      " |-- firstName: string (nullable = true)\n",
      " |-- gender: string (nullable = true)\n",
      " |-- itemInSession: long (nullable = true)\n",
      " |-- lastName: string (nullable = true)\n",
      " |-- length: double (nullable = true)\n",
      " |-- level: string (nullable = true)\n",
      " |-- location: string (nullable = true)\n",
      " |-- method: string (nullable = true)\n",
      " |-- page: string (nullable = true)\n",
      " |-- registration: double (nullable = true)\n",
      " |-- sessionId: long (nullable = true)\n",
      " |-- song: string (nullable = true)\n",
      " |-- status: long (nullable = true)\n",
      " |-- ts: long (nullable = true)\n",
      " |-- userAgent: string (nullable = true)\n",
      " |-- userId: string (nullable = true)\n",
      "\n"
     ]
    }
   ],
   "source": [
    "dflog.printSchema()"
   ]
  },
  {
   "cell_type": "code",
   "execution_count": 79,
   "metadata": {},
   "outputs": [
    {
     "name": "stdout",
     "output_type": "stream",
     "text": [
      "root\n",
      " |-- artist_id: string (nullable = true)\n",
      " |-- artist_latitude: double (nullable = true)\n",
      " |-- artist_location: string (nullable = true)\n",
      " |-- artist_longitude: double (nullable = true)\n",
      " |-- artist_name: string (nullable = true)\n",
      " |-- duration: double (nullable = true)\n",
      " |-- num_songs: long (nullable = true)\n",
      " |-- song_id: string (nullable = true)\n",
      " |-- title: string (nullable = true)\n",
      " |-- year: long (nullable = true)\n",
      "\n"
     ]
    }
   ],
   "source": [
    "df.printSchema()"
   ]
  },
  {
   "cell_type": "code",
   "execution_count": 114,
   "metadata": {},
   "outputs": [],
   "source": [
    "songplays = spark.sql(\"\"\"SELECT datetime, userId, level, song_id, artist_id, sessionId, location, userAgent\n",
    "                      FROM time\n",
    "                      JOIN log_view\n",
    "                      ON time.ts == log_view.ts\n",
    "                      JOIN song_view\n",
    "                      ON song_view.artist_name == log_view.artist\n",
    "                      \n",
    "                      \"\"\")"
   ]
  },
  {
   "cell_type": "code",
   "execution_count": 115,
   "metadata": {},
   "outputs": [
    {
     "name": "stdout",
     "output_type": "stream",
     "text": [
      "+--------------------+------+-----+------------------+------------------+---------+--------------------+--------------------+\n",
      "|            datetime|userId|level|           song_id|         artist_id|sessionId|            location|           userAgent|\n",
      "+--------------------+------+-----+------------------+------------------+---------+--------------------+--------------------+\n",
      "|2018-11-15 13:20:...|    30| paid|SOTDCIR12AB0184574|ARZGTK71187B9AC7F5|      324|San Jose-Sunnyval...|Mozilla/5.0 (Wind...|\n",
      "|2018-11-14 06:49:...|    16| paid|SODWBIK12AB017F87D|ARSMG8X1187B99CA99|      479|Birmingham-Hoover...|\"Mozilla/5.0 (Mac...|\n",
      "|2018-11-14 11:33:...|    15| paid|SOTDCIR12AB0184574|ARZGTK71187B9AC7F5|      557|Chicago-Napervill...|\"Mozilla/5.0 (X11...|\n",
      "|2018-11-14 13:11:...|    34| free|SOWQTQZ12A58A7B63E|ARPFHN61187FB575F6|      495|Milwaukee-Waukesh...|Mozilla/5.0 (Maci...|\n",
      "|2018-11-14 20:16:...|   101| free|SORRZGD12A6310DBC3|ARVBRGZ1187FB4675A|      603|New Orleans-Metai...|\"Mozilla/5.0 (Win...|\n",
      "|2018-11-28 23:22:...|    24| paid|SOWQTQZ12A58A7B63E|ARPFHN61187FB575F6|      984|Lake Havasu City-...|\"Mozilla/5.0 (Win...|\n",
      "|2018-11-05 01:34:...|    44| paid|SOCEMJV12A6D4F7667|ARIOZCU1187FB3A3DC|      237|Waterloo-Cedar Fa...|Mozilla/5.0 (Maci...|\n",
      "|2018-11-05 11:46:...|    44| paid|SOHTCZS12A6D4FC402|AROSPS51187B9B481F|      269|Waterloo-Cedar Fa...|Mozilla/5.0 (Maci...|\n",
      "|2018-11-05 16:02:...|    73| paid|SOTDCIR12AB0184574|ARZGTK71187B9AC7F5|      255|Tampa-St. Petersb...|\"Mozilla/5.0 (Mac...|\n",
      "|2018-11-13 17:29:...|    32| free|SODWBIK12AB017F87D|ARSMG8X1187B99CA99|      546|New York-Newark-J...|\"Mozilla/5.0 (Win...|\n",
      "|2018-11-29 20:34:...|    49| paid|SOTMKDG12A67ADAB35|AREH0O41187FB4C405|     1041|San Francisco-Oak...|Mozilla/5.0 (Wind...|\n",
      "|2018-11-23 17:42:...|    58| paid|SOTDCIR12AB0184574|ARZGTK71187B9AC7F5|      852|Augusta-Richmond ...|\"Mozilla/5.0 (Win...|\n",
      "|2018-11-26 07:49:...|    44| paid|SODWBIK12AB017F87D|ARSMG8X1187B99CA99|      781|Waterloo-Cedar Fa...|Mozilla/5.0 (Maci...|\n",
      "|2018-11-06 16:04:...|     2| free|SOWQTQZ12A58A7B63E|ARPFHN61187FB575F6|      126|        Plymouth, IN|\"Mozilla/5.0 (Win...|\n",
      "|2018-11-06 18:34:...|    97| paid|SOWQTQZ12A58A7B63E|ARPFHN61187FB575F6|      293|Lansing-East Lans...|\"Mozilla/5.0 (X11...|\n",
      "|2018-11-22 20:27:...|     6| free|SOUPIRU12A6D4FA1E1|ARJIE2Y1187B994AB7|      763|Atlanta-Sandy Spr...|Mozilla/5.0 (Wind...|\n",
      "|2018-11-10 07:47:...|    44| paid|SOWQTQZ12A58A7B63E|ARPFHN61187FB575F6|      350|Waterloo-Cedar Fa...|Mozilla/5.0 (Maci...|\n",
      "+--------------------+------+-----+------------------+------------------+---------+--------------------+--------------------+\n",
      "\n"
     ]
    }
   ],
   "source": [
    "songplays.show()"
   ]
  },
  {
   "cell_type": "code",
   "execution_count": null,
   "metadata": {},
   "outputs": [],
   "source": []
  }
 ],
 "metadata": {
  "kernelspec": {
   "display_name": "Python 3",
   "language": "python",
   "name": "python3"
  },
  "language_info": {
   "codemirror_mode": {
    "name": "ipython",
    "version": 3
   },
   "file_extension": ".py",
   "mimetype": "text/x-python",
   "name": "python",
   "nbconvert_exporter": "python",
   "pygments_lexer": "ipython3",
   "version": "3.6.3"
  }
 },
 "nbformat": 4,
 "nbformat_minor": 4
}
